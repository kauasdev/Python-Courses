{
 "cells": [
  {
   "cell_type": "code",
   "execution_count": 1,
   "id": "081f8330",
   "metadata": {},
   "outputs": [],
   "source": [
    "import numpy as np"
   ]
  },
  {
   "cell_type": "code",
   "execution_count": 2,
   "id": "eee78cea",
   "metadata": {},
   "outputs": [],
   "source": [
    "arr = np.arange(1, 20)"
   ]
  },
  {
   "cell_type": "code",
   "execution_count": 3,
   "id": "cd08685e",
   "metadata": {},
   "outputs": [
    {
     "name": "stdout",
     "output_type": "stream",
     "text": [
      "[ 1  2  3  4  5  6  7  8  9 10 11 12 13 14 15 16 17 18 19]\n"
     ]
    }
   ],
   "source": [
    "print(arr)"
   ]
  },
  {
   "cell_type": "code",
   "execution_count": 4,
   "id": "255be652",
   "metadata": {},
   "outputs": [
    {
     "name": "stdout",
     "output_type": "stream",
     "text": [
      "[ 2  4  6  8 10 12 14 16 18 20 22 24 26 28 30 32 34 36 38]\n"
     ]
    }
   ],
   "source": [
    "print(arr + arr)"
   ]
  },
  {
   "cell_type": "code",
   "execution_count": 5,
   "id": "616b85eb",
   "metadata": {},
   "outputs": [
    {
     "name": "stdout",
     "output_type": "stream",
     "text": [
      "[0 0 0 0 0 0 0 0 0 0 0 0 0 0 0 0 0 0 0]\n"
     ]
    }
   ],
   "source": [
    "print(arr - arr)"
   ]
  },
  {
   "cell_type": "code",
   "execution_count": 6,
   "id": "33187b15",
   "metadata": {},
   "outputs": [
    {
     "name": "stdout",
     "output_type": "stream",
     "text": [
      "[  1   4   9  16  25  36  49  64  81 100 121 144 169 196 225 256 289 324\n",
      " 361]\n"
     ]
    }
   ],
   "source": [
    "print(arr*arr)"
   ]
  },
  {
   "cell_type": "code",
   "execution_count": null,
   "id": "ba08e858",
   "metadata": {},
   "outputs": [],
   "source": [
    "print(arr + 100)\n",
    "print()\n",
    "print(arr - 100)\n",
    "print()\n",
    "print(arr * 100)\n",
    "print()\n",
    "print(arr / 100)"
   ]
  },
  {
   "cell_type": "code",
   "execution_count": null,
   "id": "b119979a",
   "metadata": {},
   "outputs": [],
   "source": [
    "1/0"
   ]
  },
  {
   "cell_type": "code",
   "execution_count": null,
   "id": "972bc100",
   "metadata": {},
   "outputs": [],
   "source": [
    "arr_zeros = np.zeros(10)"
   ]
  },
  {
   "cell_type": "code",
   "execution_count": null,
   "id": "db15b527",
   "metadata": {},
   "outputs": [],
   "source": [
    "arr_zeros"
   ]
  },
  {
   "cell_type": "code",
   "execution_count": null,
   "id": "705413fb",
   "metadata": {},
   "outputs": [],
   "source": [
    "arr_zeros / arr_zeros"
   ]
  },
  {
   "cell_type": "code",
   "execution_count": null,
   "id": "720c476a",
   "metadata": {},
   "outputs": [],
   "source": [
    "1 / arr_zeros"
   ]
  },
  {
   "cell_type": "code",
   "execution_count": null,
   "id": "909527a2",
   "metadata": {},
   "outputs": [],
   "source": [
    "arr ** 2"
   ]
  },
  {
   "cell_type": "code",
   "execution_count": null,
   "id": "a83fd366",
   "metadata": {},
   "outputs": [],
   "source": [
    "np.sqrt(arr)"
   ]
  },
  {
   "cell_type": "code",
   "execution_count": null,
   "id": "462db5a6",
   "metadata": {},
   "outputs": [],
   "source": [
    "np.exp(arr)"
   ]
  },
  {
   "cell_type": "code",
   "execution_count": null,
   "id": "ba1ece6c",
   "metadata": {},
   "outputs": [],
   "source": [
    "np.max(arr), arr.max()"
   ]
  },
  {
   "cell_type": "code",
   "execution_count": null,
   "id": "c7843fe0",
   "metadata": {},
   "outputs": [],
   "source": [
    "np.sin(arr)"
   ]
  },
  {
   "cell_type": "code",
   "execution_count": null,
   "id": "0efc3a5e",
   "metadata": {},
   "outputs": [],
   "source": [
    "np.log(arr)"
   ]
  },
  {
   "cell_type": "code",
   "execution_count": null,
   "id": "1d845e54",
   "metadata": {},
   "outputs": [],
   "source": [
    "print(2 - 2*2)"
   ]
  }
 ],
 "metadata": {
  "kernelspec": {
   "display_name": "Python 3 (ipykernel)",
   "language": "python",
   "name": "python3"
  },
  "language_info": {
   "codemirror_mode": {
    "name": "ipython",
    "version": 3
   },
   "file_extension": ".py",
   "mimetype": "text/x-python",
   "name": "python",
   "nbconvert_exporter": "python",
   "pygments_lexer": "ipython3",
   "version": "3.9.13"
  }
 },
 "nbformat": 4,
 "nbformat_minor": 5
}
