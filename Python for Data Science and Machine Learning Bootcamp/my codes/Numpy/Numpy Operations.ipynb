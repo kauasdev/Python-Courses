{
 "cells": [
  {
   "cell_type": "code",
   "execution_count": 1,
   "id": "081f8330",
   "metadata": {},
   "outputs": [],
   "source": [
    "import numpy as np"
   ]
  },
  {
   "cell_type": "code",
   "execution_count": null,
   "id": "eee78cea",
   "metadata": {},
   "outputs": [],
   "source": [
    "arr = np.arange(1, 20)"
   ]
  },
  {
   "cell_type": "code",
   "execution_count": null,
   "id": "cd08685e",
   "metadata": {},
   "outputs": [],
   "source": [
    "print(arr)"
   ]
  },
  {
   "cell_type": "code",
   "execution_count": null,
   "id": "255be652",
   "metadata": {},
   "outputs": [],
   "source": [
    "print(arr + arr)np.random.randint(1, 100, 4"
   ]
  },
  {
   "cell_type": "code",
   "execution_count": null,
   "id": "616b85eb",
   "metadata": {},
   "outputs": [],
   "source": [
    "print(arr - arr)"
   ]
  },
  {
   "cell_type": "code",
   "execution_count": null,
   "id": "33187b15",
   "metadata": {},
   "outputs": [],
   "source": [
    "print(arr*arr)"
   ]
  },
  {
   "cell_type": "code",
   "execution_count": null,
   "id": "ba08e858",
   "metadata": {},
   "outputs": [],
   "source": [
    "print(arr + 100)\n",
    "print()\n",
    "print(arr - 100)\n",
    "print()\n",
    "print(arr * 100)\n",
    "print()\n",
    "print(arr / 100)"
   ]
  },
  {
   "cell_type": "code",
   "execution_count": null,
   "id": "b119979a",
   "metadata": {},
   "outputs": [],
   "source": [
    "1/0"
   ]
  },
  {
   "cell_type": "code",
   "execution_count": null,
   "id": "972bc100",
   "metadata": {},
   "outputs": [],
   "source": [
    "arr_zeros = np.zeros(10)"
   ]
  },
  {
   "cell_type": "code",
   "execution_count": null,
   "id": "db15b527",
   "metadata": {},
   "outputs": [],
   "source": [
    "arr_zeros"
   ]
  },
  {
   "cell_type": "code",
   "execution_count": null,
   "id": "705413fb",
   "metadata": {},
   "outputs": [],
   "source": [
    "arr_zeros / arr_zeros"
   ]
  },
  {
   "cell_type": "code",
   "execution_count": null,
   "id": "720c476a",
   "metadata": {},
   "outputs": [],
   "source": [
    "1 / arr_zeros"
   ]
  },
  {
   "cell_type": "code",
   "execution_count": null,
   "id": "909527a2",
   "metadata": {},
   "outputs": [],
   "source": [
    "arr ** 2"
   ]
  },
  {
   "cell_type": "code",
   "execution_count": null,
   "id": "a83fd366",
   "metadata": {},
   "outputs": [],
   "source": [
    "np.sqrt(arr)"
   ]
  },
  {
   "cell_type": "code",
   "execution_count": null,
   "id": "462db5a6",
   "metadata": {},
   "outputs": [],
   "source": [
    "np.exp(arr)"
   ]
  },
  {
   "cell_type": "code",
   "execution_count": null,
   "id": "ba1ece6c",
   "metadata": {},
   "outputs": [],
   "source": [
    "np.max(arr), arr.max()"
   ]
  },
  {
   "cell_type": "code",
   "execution_count": null,
   "id": "c7843fe0",
   "metadata": {
    "scrolled": true
   },
   "outputs": [],
   "source": [
    "np.sin(arr)"
   ]
  },
  {
   "cell_type": "code",
   "execution_count": null,
   "id": "0efc3a5e",
   "metadata": {},
   "outputs": [],
   "source": [
    "np.log(arr)"
   ]
  },
  {
   "cell_type": "code",
   "execution_count": 6,
   "id": "65620a01",
   "metadata": {},
   "outputs": [
    {
     "name": "stdout",
     "output_type": "stream",
     "text": [
      "[[0 1 2 3 4]\n",
      " [5 6 7 8 9]]\n",
      "[[0 1 2 3 4]\n",
      " [5 6 7 8 9]]\n"
     ]
    }
   ],
   "source": [
    "m1 = np.arange(0, 10).reshape(2, 5)\n",
    "m2 = np.arange(0, 10).reshape(2, 5)\n",
    "\n",
    "print(m1)\n",
    "print(m2)"
   ]
  },
  {
   "cell_type": "code",
   "execution_count": 5,
   "id": "fcc6d317",
   "metadata": {},
   "outputs": [
    {
     "data": {
      "text/plain": [
       "array([[ 0,  2,  4,  6,  8],\n",
       "       [10, 12, 14, 16, 18]])"
      ]
     },
     "execution_count": 5,
     "metadata": {},
     "output_type": "execute_result"
    }
   ],
   "source": [
    "m1+m2"
   ]
  }
 ],
 "metadata": {
  "kernelspec": {
   "display_name": "Python 3 (ipykernel)",
   "language": "python",
   "name": "python3"
  },
  "language_info": {
   "codemirror_mode": {
    "name": "ipython",
    "version": 3
   },
   "file_extension": ".py",
   "mimetype": "text/x-python",
   "name": "python",
   "nbconvert_exporter": "python",
   "pygments_lexer": "ipython3",
   "version": "3.9.13"
  }
 },
 "nbformat": 4,
 "nbformat_minor": 5
}
