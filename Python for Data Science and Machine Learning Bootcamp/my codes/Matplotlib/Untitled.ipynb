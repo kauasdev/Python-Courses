{
 "cells": [
  {
   "cell_type": "code",
   "execution_count": 1,
   "id": "6a0d4a14",
   "metadata": {},
   "outputs": [
    {
     "name": "stdout",
     "output_type": "stream",
     "text": [
      "False\n"
     ]
    }
   ],
   "source": [
    "lista = [0,1,2,3,4,5]\n",
    "\n",
    "print(hasattr(lista, '__next__'))"
   ]
  },
  {
   "cell_type": "code",
   "execution_count": 2,
   "id": "6f9db2c7",
   "metadata": {},
   "outputs": [
    {
     "name": "stdout",
     "output_type": "stream",
     "text": [
      "True\n"
     ]
    }
   ],
   "source": [
    "lista = iter(lista)\n",
    "print(hasattr(lista, '__next__'))"
   ]
  },
  {
   "cell_type": "code",
   "execution_count": 3,
   "id": "62b57185",
   "metadata": {},
   "outputs": [
    {
     "name": "stdout",
     "output_type": "stream",
     "text": [
      "0\n"
     ]
    }
   ],
   "source": [
    "print(next(lista))"
   ]
  },
  {
   "cell_type": "code",
   "execution_count": 4,
   "id": "449982cf",
   "metadata": {},
   "outputs": [
    {
     "name": "stdout",
     "output_type": "stream",
     "text": [
      "1\n"
     ]
    }
   ],
   "source": [
    "print(next(lista))"
   ]
  },
  {
   "cell_type": "code",
   "execution_count": 5,
   "id": "eab7a3d4",
   "metadata": {},
   "outputs": [],
   "source": [
    "import sys"
   ]
  },
  {
   "cell_type": "code",
   "execution_count": 6,
   "id": "540cbeda",
   "metadata": {},
   "outputs": [],
   "source": [
    "list1 = list(range(20))"
   ]
  },
  {
   "cell_type": "code",
   "execution_count": 7,
   "id": "a289fbaa",
   "metadata": {},
   "outputs": [
    {
     "name": "stdout",
     "output_type": "stream",
     "text": [
      "216\n"
     ]
    }
   ],
   "source": [
    "print(sys.getsizeof(list1)) # memoria consumida em bytes"
   ]
  },
  {
   "cell_type": "code",
   "execution_count": 8,
   "id": "02d59c3e",
   "metadata": {},
   "outputs": [],
   "source": [
    "list2 = list(range(100000))"
   ]
  },
  {
   "cell_type": "code",
   "execution_count": 11,
   "id": "d096c786",
   "metadata": {},
   "outputs": [
    {
     "name": "stdout",
     "output_type": "stream",
     "text": [
      "800056\n"
     ]
    }
   ],
   "source": [
    "print(sys.getsizeof(list2))"
   ]
  },
  {
   "cell_type": "code",
   "execution_count": 12,
   "id": "5529a0bb",
   "metadata": {},
   "outputs": [],
   "source": [
    "import time"
   ]
  },
  {
   "cell_type": "code",
   "execution_count": 13,
   "id": "bd3fec62",
   "metadata": {},
   "outputs": [],
   "source": [
    "def gera():\n",
    "    r = []\n",
    "    for n in range(100):\n",
    "        r.append(n)\n",
    "        time.sleep(0.1)\n",
    "    return r"
   ]
  },
  {
   "cell_type": "code",
   "execution_count": 15,
   "id": "6f7fc3c2",
   "metadata": {},
   "outputs": [
    {
     "name": "stdout",
     "output_type": "stream",
     "text": [
      "0\n",
      "1\n",
      "2\n",
      "3\n",
      "4\n",
      "5\n",
      "6\n",
      "7\n",
      "8\n",
      "9\n",
      "10\n",
      "11\n",
      "12\n",
      "13\n",
      "14\n",
      "15\n",
      "16\n",
      "17\n",
      "18\n",
      "19\n",
      "20\n",
      "21\n",
      "22\n",
      "23\n",
      "24\n",
      "25\n",
      "26\n",
      "27\n",
      "28\n",
      "29\n",
      "30\n",
      "31\n",
      "32\n",
      "33\n",
      "34\n",
      "35\n",
      "36\n",
      "37\n",
      "38\n",
      "39\n",
      "40\n",
      "41\n",
      "42\n",
      "43\n",
      "44\n",
      "45\n",
      "46\n",
      "47\n",
      "48\n",
      "49\n",
      "50\n",
      "51\n",
      "52\n",
      "53\n",
      "54\n",
      "55\n",
      "56\n",
      "57\n",
      "58\n",
      "59\n",
      "60\n",
      "61\n",
      "62\n",
      "63\n",
      "64\n",
      "65\n",
      "66\n",
      "67\n",
      "68\n",
      "69\n",
      "70\n",
      "71\n",
      "72\n",
      "73\n",
      "74\n",
      "75\n",
      "76\n",
      "77\n",
      "78\n",
      "79\n",
      "80\n",
      "81\n",
      "82\n",
      "83\n",
      "84\n",
      "85\n",
      "86\n",
      "87\n",
      "88\n",
      "89\n",
      "90\n",
      "91\n",
      "92\n",
      "93\n",
      "94\n",
      "95\n",
      "96\n",
      "97\n",
      "98\n",
      "99\n"
     ]
    }
   ],
   "source": [
    "g = gera()\n",
    "\n",
    "for v in g:\n",
    "    print(v)"
   ]
  },
  {
   "cell_type": "code",
   "execution_count": 16,
   "id": "2c111a97",
   "metadata": {},
   "outputs": [],
   "source": [
    "def gene():\n",
    "    for n in range(100):\n",
    "        yield n\n",
    "        time.sleep(0.1)\n"
   ]
  },
  {
   "cell_type": "code",
   "execution_count": 17,
   "id": "41eec4f2",
   "metadata": {},
   "outputs": [
    {
     "name": "stdout",
     "output_type": "stream",
     "text": [
      "<generator object gene at 0x7f14a7535f90>\n"
     ]
    }
   ],
   "source": [
    "g = gene()\n",
    "\n",
    "print(g)"
   ]
  },
  {
   "cell_type": "code",
   "execution_count": null,
   "id": "19a346bc",
   "metadata": {},
   "outputs": [],
   "source": []
  }
 ],
 "metadata": {
  "kernelspec": {
   "display_name": "Python 3 (ipykernel)",
   "language": "python",
   "name": "python3"
  },
  "language_info": {
   "codemirror_mode": {
    "name": "ipython",
    "version": 3
   },
   "file_extension": ".py",
   "mimetype": "text/x-python",
   "name": "python",
   "nbconvert_exporter": "python",
   "pygments_lexer": "ipython3",
   "version": "3.9.13"
  }
 },
 "nbformat": 4,
 "nbformat_minor": 5
}
